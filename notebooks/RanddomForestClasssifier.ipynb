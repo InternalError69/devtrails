{
  "nbformat": 4,
  "nbformat_minor": 0,
  "metadata": {
    "colab": {
      "provenance": [],
      "gpuType": "T4"
    },
    "kernelspec": {
      "name": "python3",
      "display_name": "Python 3"
    },
    "language_info": {
      "name": "python"
    },
    "accelerator": "GPU"
  },
  "cells": [
    {
      "cell_type": "code",
      "execution_count": null,
      "metadata": {
        "id": "WJReCsnaSBJv",
        "colab": {
          "base_uri": "https://localhost:8080/"
        },
        "outputId": "10f090d5-82f5-406d-9047-01748b7b059c"
      },
      "outputs": [
        {
          "output_type": "stream",
          "name": "stdout",
          "text": [
            "Accuracy: 0.783\n",
            "Classification Report:\n",
            "                      precision    recall  f1-score   support\n",
            "\n",
            "      Network Issue       0.73      0.77      0.75       365\n",
            "           No Issue       0.79      0.80      0.80       253\n",
            "        Pod Failure       0.79      0.81      0.80       812\n",
            "Resource Exhaustion       0.85      0.81      0.83       473\n",
            " Service Disruption       0.55      0.43      0.48        97\n",
            "\n",
            "           accuracy                           0.78      2000\n",
            "          macro avg       0.74      0.72      0.73      2000\n",
            "       weighted avg       0.78      0.78      0.78      2000\n",
            "\n",
            "Predicted issue: No Issue\n",
            "Model exported to 'random_forest_model.pkl'\n",
            "LabelEncoder exported to 'issue_label_encoder.pkl'\n"
          ]
        },
        {
          "output_type": "stream",
          "name": "stderr",
          "text": [
            "/usr/local/lib/python3.11/dist-packages/sklearn/utils/validation.py:2739: UserWarning: X does not have valid feature names, but RandomForestClassifier was fitted with feature names\n",
            "  warnings.warn(\n"
          ]
        }
      ],
      "source": [
        "import pandas as pd\n",
        "from sklearn.model_selection import train_test_split\n",
        "from sklearn.ensemble import RandomForestClassifier\n",
        "from sklearn.preprocessing import LabelEncoder\n",
        "from sklearn.metrics import accuracy_score, classification_report\n",
        "import joblib\n",
        "\n",
        "# Load your dataset\n",
        "data = pd.read_csv(\"/content/drive/MyDrive/k8s_data_fair.csv\")\n",
        "\n",
        "# Convert categorical columns to numeric\n",
        "le = LabelEncoder()\n",
        "data[\"pod_status\"] = le.fit_transform(data[\"pod_status\"])\n",
        "data[\"node_status\"] = le.fit_transform(data[\"node_status\"])\n",
        "data[\"issue\"] = le.fit_transform(data[\"issue\"])\n",
        "\n",
        "#  drop timestamp\n",
        "X = data.drop(columns=[\"timestamp\", \"issue\"])  # Features\n",
        "y = data[\"issue\"]  # Target\n",
        "\n",
        "# Split into training and testing sets\n",
        "X_train, X_test, y_train, y_test = train_test_split(X, y, test_size=0.2, random_state=42)\n",
        "\n",
        "# Train a Random Forest model\n",
        "model = RandomForestClassifier(n_estimators=100, random_state=42)\n",
        "model.fit(X_train, y_train)\n",
        "\n",
        "# Make predictions\n",
        "y_pred = model.predict(X_test)\n",
        "\n",
        "# Evaluate the model\n",
        "print(\"Accuracy:\", accuracy_score(y_test, y_pred))\n",
        "print(\"Classification Report:\\n\", classification_report(y_test, y_pred, target_names=le.classes_))\n",
        "\n",
        "new_data = X_test.iloc[0].values.reshape(1, -1)  # Take one test row\n",
        "prediction = model.predict(new_data)\n",
        "print(\"Predicted issue:\", le.inverse_transform(prediction)[0])  # Convert back to label\n",
        "\n",
        "# Export the trained model to a file\n",
        "joblib.dump(model, \"random_forest_model.pkl\")\n",
        "print(\"Model exported to 'random_forest_model.pkl'\")\n",
        "\n",
        "joblib.dump(le, \"issue_label_encoder.pkl\")\n",
        "print(\"LabelEncoder exported to 'issue_label_encoder.pkl'\")"
      ]
    },
    {
      "cell_type": "code",
      "source": [
        "from google.colab import drive\n",
        "drive.mount('/content/drive')"
      ],
      "metadata": {
        "colab": {
          "base_uri": "https://localhost:8080/"
        },
        "id": "yvvw10IUlRIM",
        "outputId": "443841d0-9431-4254-c158-ccd9c1114e49"
      },
      "execution_count": null,
      "outputs": [
        {
          "output_type": "stream",
          "name": "stdout",
          "text": [
            "Mounted at /content/drive\n"
          ]
        }
      ]
    }
  ]
}